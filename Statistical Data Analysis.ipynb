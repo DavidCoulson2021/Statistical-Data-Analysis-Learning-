{
 "cells": [
  {
   "cell_type": "code",
   "execution_count": 1,
   "id": "9826b77c",
   "metadata": {},
   "outputs": [],
   "source": [
    "#Calculate mean and median values"
   ]
  },
  {
   "cell_type": "code",
   "execution_count": 2,
   "id": "c66ffa67",
   "metadata": {},
   "outputs": [
    {
     "name": "stdout",
     "output_type": "stream",
     "text": [
      "Mean: 29.45\n",
      "Median: 28\n",
      "Mode (Single): 28\n",
      "Mode (Multiple): 29, 28, 28, 29, 27, 27, 28\n"
     ]
    }
   ],
   "source": [
    "from statistics import mean, median, mode\n",
    "\n",
    "data = [23, 38, 29, 28, 30, 28, 29, 27, 27, 28, 37]\n",
    "\n",
    "# Calculate mean\n",
    "mean_value = mean(data)\n",
    "print(f\"Mean: {mean_value:.2f}\")\n",
    "\n",
    "# Calculate median\n",
    "median_value = median(data)\n",
    "print(f\"Median: {median_value}\")\n",
    "\n",
    "# Calculate mode (single)\n",
    "try:\n",
    "    mode_single = mode(data)\n",
    "    print(f\"Mode (Single): {mode_single}\")\n",
    "except StatisticsError:\n",
    "    print(\"No unique mode (Single)\")\n",
    "\n",
    "# Calculate mode (multiple)\n",
    "mode_multiple = [item for item in data if data.count(item) > 1]\n",
    "if mode_multiple:\n",
    "    print(f\"Mode (Multiple): {', '.join(map(str, mode_multiple))}\")\n",
    "else:\n",
    "    print(\"No mode (Multiple)\")"
   ]
  },
  {
   "cell_type": "code",
   "execution_count": 3,
   "id": "907fd399",
   "metadata": {},
   "outputs": [],
   "source": [
    "#For a given dataset calculate the maximums, minimums, etc"
   ]
  },
  {
   "cell_type": "code",
   "execution_count": 4,
   "id": "9b0a7505",
   "metadata": {},
   "outputs": [
    {
     "name": "stdout",
     "output_type": "stream",
     "text": [
      "Mean: 5696.36\n",
      "Median: 6062.0\n",
      "Mode (Single): 1684.0\n",
      "\n",
      "Data      Error     Squared Error  \n",
      "===================================\n",
      "1684.0    -4012.36  16099024.54    \n",
      "1738.0    -3958.36  15668605.77    \n",
      "1861.0    -3835.36  14709978.46    \n",
      "2392.0    -3304.36  10918788.23    \n",
      "2511.0    -3185.36  10146511.80    \n",
      "2780.0    -2916.36  8505149.67     \n",
      "3547.0    -2149.36  4619744.00     \n",
      "3741.0    -1955.36  3823428.72     \n",
      "4109.0    -1587.36  2519708.51     \n",
      "4293.0    -1403.36  1969416.41     \n",
      "4316.0    -1380.36  1905390.90     \n",
      "4364.0    -1332.36  1775180.44     \n",
      "4465.0    -1231.36  1516244.92     \n",
      "4479.0    -1217.36  1481962.87     \n",
      "4521.0    -1175.36  1381468.72     \n",
      "4754.0    -942.36   888040.44      \n",
      "5099.0    -597.36   356837.74      \n",
      "5629.0    -67.36    4537.23        \n",
      "5786.0    89.64     8035.51        \n",
      "6062.0    365.64    133693.36      \n",
      "6221.0    524.64    275248.21      \n",
      "6231.0    534.64    285841.03      \n",
      "6286.0    589.64    347676.54      \n",
      "6424.0    727.64    529461.46      \n",
      "6885.0    1188.64   1412867.49     \n",
      "6898.0    1201.64   1443941.15     \n",
      "6955.0    1258.64   1584177.23     \n",
      "7265.0    1568.64   2460634.67     \n",
      "7330.0    1633.64   2668783.00     \n",
      "7491.0    1794.64   3220736.41     \n",
      "7641.0    1944.64   3781628.72     \n",
      "7666.0    1969.64   3879485.77     \n",
      "7751.0    2054.64   4221549.74     \n",
      "8060.0    2363.64   5586798.90     \n",
      "8219.0    2522.64   6363717.74     \n",
      "8283.0    2586.64   6690711.80     \n",
      "8852.0    3155.64   9958070.28     \n",
      "9637.0    3940.64   15528651.69    \n",
      "9932.0    4235.64   17940654.90    \n",
      "\n",
      "Minimum: 1684.00\n",
      "Maximum: 9932.00\n",
      "Quartile 1: 4304.50\n",
      "Quartile 2 (Median): 6062.00\n",
      "Quartile 3: 7410.50\n",
      "Variance: 4784932.95\n",
      "Standard Deviation: 2187.45\n"
     ]
    }
   ],
   "source": [
    "import numpy as np\n",
    "from statistics import mean, median, mode, StatisticsError\n",
    "\n",
    "data = [\n",
    "    1684.00, 1738.00, 1861.00, 2392.00, 2511.00, 2780.00, 3547.00, 3741.00,\n",
    "    4109.00, 4293.00, 4316.00, 4364.00, 4465.00, 4479.00, 4521.00, 4754.00,\n",
    "    5099.00, 5629.00, 5786.00, 6062.00, 6221.00, 6231.00, 6286.00, 6424.00,\n",
    "    6885.00, 6898.00, 6955.00, 7265.00, 7330.00, 7491.00, 7641.00, 7666.00,\n",
    "    7751.00, 8060.00, 8219.00, 8283.00, 8852.00, 9637.00, 9932.00\n",
    "]\n",
    "\n",
    "# Calculate mean\n",
    "mean_value = mean(data)\n",
    "print(f\"Mean: {mean_value:.2f}\")\n",
    "\n",
    "# Calculate median\n",
    "median_value = median(data)\n",
    "print(f\"Median: {median_value}\")\n",
    "\n",
    "# Calculate mode (single)\n",
    "try:\n",
    "    mode_single = mode(data)\n",
    "    print(f\"Mode (Single): {mode_single}\")\n",
    "except StatisticsError:\n",
    "    print(\"No unique mode (Single)\")\n",
    "\n",
    "# Calculate errors\n",
    "errors = [x - mean_value for x in data]\n",
    "\n",
    "# Calculate squared errors\n",
    "squared_errors = [error ** 2 for error in errors]\n",
    "\n",
    "# Display data, error, and squared error columns\n",
    "print(f\"\\n{'Data':<10}{'Error':<10}{'Squared Error':<15}\")\n",
    "print(\"=\" * 35)\n",
    "for i in range(len(data)):\n",
    "    print(f\"{data[i]:<10}{errors[i]:<10.2f}{squared_errors[i]:<15.2f}\")\n",
    "\n",
    "# Calculate minimum and maximum\n",
    "minimum = min(data)\n",
    "maximum = max(data)\n",
    "print(f\"\\nMinimum: {minimum:.2f}\")\n",
    "print(f\"Maximum: {maximum:.2f}\")\n",
    "\n",
    "# Calculate quartiles\n",
    "q1 = np.percentile(data, 25)\n",
    "q2 = np.percentile(data, 50)  # Median\n",
    "q3 = np.percentile(data, 75)\n",
    "\n",
    "print(f\"Quartile 1: {q1:.2f}\")\n",
    "print(f\"Quartile 2 (Median): {q2:.2f}\")\n",
    "print(f\"Quartile 3: {q3:.2f}\")\n",
    "\n",
    "# Calculate variance and standard deviation\n",
    "variance = np.var(data)\n",
    "std_dev = np.std(data)\n",
    "\n",
    "print(f\"Variance: {variance:.2f}\")\n",
    "print(f\"Standard Deviation: {std_dev:.2f}\")\n"
   ]
  },
  {
   "cell_type": "code",
   "execution_count": 5,
   "id": "0548e650",
   "metadata": {},
   "outputs": [],
   "source": [
    "#Calculate variance and standard deviation"
   ]
  },
  {
   "cell_type": "code",
   "execution_count": 6,
   "id": "eaf2ddd5",
   "metadata": {},
   "outputs": [
    {
     "name": "stdout",
     "output_type": "stream",
     "text": [
      "Data      Error     Squared Error  \n",
      "===================================\n",
      "2393      -3089.60  9545628.16     \n",
      "5403      -79.60    6336.16        \n",
      "2140      -3342.60  11172974.76    \n",
      "9195      3712.40   13781913.76    \n",
      "4132      -1350.60  1824120.36     \n",
      "9429      3946.40   15574072.96    \n",
      "8054      2571.40   6612097.96     \n",
      "3150      -2332.60  5441022.76     \n",
      "5447      -35.60    1267.36        \n",
      "5483      0.40      0.16           \n",
      "\n",
      "Summary:\n",
      "===================================\n",
      "Mean: 5482.60\n",
      "Variance: 6395943.44\n",
      "Standard Deviation: 2529.02\n"
     ]
    }
   ],
   "source": [
    "data = [2393, 5403, 2140, 9195, 4132, 9429, 8054, 3150, 5447, 5483]\n",
    "\n",
    "# Calculate mean\n",
    "mean_value = np.mean(data)\n",
    "\n",
    "# Calculate errors\n",
    "errors = [x - mean_value for x in data]\n",
    "\n",
    "# Calculate squared errors\n",
    "squared_errors = [error ** 2 for error in errors]\n",
    "\n",
    "# Display data, error, and squared error columns\n",
    "print(f\"{'Data':<10}{'Error':<10}{'Squared Error':<15}\")\n",
    "print(\"=\" * 35)\n",
    "for i in range(len(data)):\n",
    "    print(f\"{data[i]:<10}{errors[i]:<10.2f}{squared_errors[i]:<15.2f}\")\n",
    "\n",
    "# Calculate variance\n",
    "variance = np.mean(squared_errors)\n",
    "\n",
    "# Calculate standard deviation\n",
    "std_dev = np.sqrt(variance)\n",
    "\n",
    "print(\"\\nSummary:\")\n",
    "print(\"=\" * 35)\n",
    "print(f\"Mean: {mean_value:.2f}\")\n",
    "print(f\"Variance: {variance:.2f}\")\n",
    "print(f\"Standard Deviation: {std_dev:.2f}\")\n"
   ]
  },
  {
   "cell_type": "code",
   "execution_count": 7,
   "id": "2dbe16c3",
   "metadata": {},
   "outputs": [],
   "source": [
    "#Create a histogram"
   ]
  },
  {
   "cell_type": "code",
   "execution_count": 86,
   "id": "d825fd2a",
   "metadata": {},
   "outputs": [
    {
     "data": {
      "image/png": "[encoded data removed]",
      "text/plain": [
       "<Figure size 720x432 with 1 Axes>"
      ]
     },
     "metadata": {
      "needs_background": "light"
     },
     "output_type": "display_data"
    }
   ],
   "source": [
    "import matplotlib.pyplot as plt\n",
    "\n",
    "data = [\n",
    "    94, 53, 135, 72, 78, 100, 115, 86, 97, 92,\n",
    "    136, 94, 154, 102, 87, 98, 73, 122, 72, 82,\n",
    "    81, 78, 100, 144, 89, 121, 118, 40, 88, 85,\n",
    "    135, 101, 137, 140, 109, 79, 149, 114, 87,\n",
    "    104, 135, 95, 124, 129, 87, 107, 98, 95, 132, 74\n",
    "]\n",
    "\n",
    "plt.figure(figsize=(10, 6))\n",
    "\n",
    "plt.hist(data, bins=15, color='blue', edgecolor='black', alpha=0.7)\n",
    "plt.title('Hourly Demand Histogram')\n",
    "plt.xlabel('Hourly Demand')\n",
    "plt.ylabel('Frequency')\n",
    "\n",
    "plt.show()\n"
   ]
  },
  {
   "cell_type": "code",
   "execution_count": 9,
   "id": "1dd865f3",
   "metadata": {},
   "outputs": [],
   "source": [
    "#margin of error"
   ]
  },
  {
   "cell_type": "code",
   "execution_count": 95,
   "id": "34954fb6",
   "metadata": {},
   "outputs": [
    {
     "name": "stdout",
     "output_type": "stream",
     "text": [
      "Standard Error: 0.0158\n",
      "Margin of Error: 0.0310\n"
     ]
    }
   ],
   "source": [
    "import scipy.stats as stats\n",
    "\n",
    "# Given data\n",
    "std_dev = 0.1\n",
    "certainty_level = 0.95\n",
    "z_score = stats.norm.ppf((1 + certainty_level) / 2)  # Z-score for 95% confidence interval\n",
    "n = 40\n",
    "\n",
    "# Calculate standard error\n",
    "std_error = std_dev / (n ** 0.5)\n",
    "print(f\"Standard Error: {std_error:.4f}\")\n",
    "\n",
    "# Calculate margin of error\n",
    "margin_error = z_score * std_error\n",
    "print(f\"Margin of Error: {margin_error:.4f}\")\n"
   ]
  },
  {
   "cell_type": "code",
   "execution_count": 11,
   "id": "f52635f7",
   "metadata": {},
   "outputs": [],
   "source": [
    "#Challenge Summarize And Analyze Business Data"
   ]
  },
  {
   "cell_type": "code",
   "execution_count": 12,
   "id": "0a4a41b1",
   "metadata": {},
   "outputs": [
    {
     "name": "stdout",
     "output_type": "stream",
     "text": [
      "Mean (Average): 1319.47\n",
      "Median: 1285.50\n",
      "Maximum: 2599.00\n",
      "Minimum: 189.00\n",
      "First Quartile (Q1): 1087.50\n",
      "Third Quartile (Q3): 1551.50\n",
      "Variance: 240961.58\n",
      "Standard Deviation: 490.88\n"
     ]
    }
   ],
   "source": [
    "data = [\n",
    "    1359, 1092, 1086, 1870, 2036, 853, 1188, 748, 1553, 1620,\n",
    "    461, 1128, 791, 1104, 1349, 1668, 1547, 1204, 2599, 1302,\n",
    "    2156, 1269, 189, 1031, 1474, 1224, 1453, 1866, 1516, 848\n",
    "]\n",
    "\n",
    "# Calculate mean (average)\n",
    "mean_value = np.mean(data)\n",
    "print(f\"Mean (Average): {mean_value:.2f}\")\n",
    "\n",
    "# Calculate median\n",
    "median_value = np.median(data)\n",
    "print(f\"Median: {median_value:.2f}\")\n",
    "\n",
    "# Calculate maximum and minimum\n",
    "maximum = np.max(data)\n",
    "minimum = np.min(data)\n",
    "print(f\"Maximum: {maximum:.2f}\")\n",
    "print(f\"Minimum: {minimum:.2f}\")\n",
    "\n",
    "# Calculate quartiles\n",
    "q1 = np.percentile(data, 25)\n",
    "q3 = np.percentile(data, 75)\n",
    "print(f\"First Quartile (Q1): {q1:.2f}\")\n",
    "print(f\"Third Quartile (Q3): {q3:.2f}\")\n",
    "\n",
    "# Calculate variance\n",
    "variance = np.var(data)\n",
    "print(f\"Variance: {variance:.2f}\")\n",
    "\n",
    "# Calculate standard deviation\n",
    "std_dev = np.std(data)\n",
    "print(f\"Standard Deviation: {std_dev:.2f}\")"
   ]
  },
  {
   "cell_type": "code",
   "execution_count": 13,
   "id": "236614ee",
   "metadata": {},
   "outputs": [],
   "source": [
    "#Create an xy scatter plot"
   ]
  },
  {
   "cell_type": "code",
   "execution_count": 14,
   "id": "37411b7d",
   "metadata": {},
   "outputs": [
    {
     "data": {
      "image/png": "[encoded data removed]",
      "text/plain": [
       "<Figure size 720x432 with 1 Axes>"
      ]
     },
     "metadata": {
      "needs_background": "light"
     },
     "output_type": "display_data"
    }
   ],
   "source": [
    "distance = [\n",
    "    1, 1, 2, 4, 4, 5, 10, 20, 20, 22, 45, 50,\n",
    "    50, 50, 75, 75, 75, 75, 85, 87, 99, 100,\n",
    "    125, 130, 145, 152\n",
    "]\n",
    "\n",
    "amount_spent = [\n",
    "    35, 13, 40, 20, 15, 35, 35, 50, 25, 40, 35, 75,\n",
    "    125, 67, 99, 149, 110, 120, 130, 75, 101, 200,\n",
    "    125, 220, 150, 195\n",
    "]\n",
    "\n",
    "plt.figure(figsize=(10, 6))\n",
    "\n",
    "plt.scatter(distance, amount_spent, color='red', marker='o', alpha=0.7)\n",
    "plt.title('Distance vs Amount Spent')\n",
    "plt.xlabel('Distance')\n",
    "plt.ylabel('Amount Spent')\n",
    "\n",
    "plt.show()"
   ]
  },
  {
   "cell_type": "code",
   "execution_count": 15,
   "id": "fd11f83e",
   "metadata": {},
   "outputs": [],
   "source": [
    "#plot data with a logarithmic scale"
   ]
  },
  {
   "cell_type": "code",
   "execution_count": 16,
   "id": "7e764501",
   "metadata": {},
   "outputs": [
    {
     "data": {
      "image/png": "[encoded data removed]",
      "text/plain": [
       "<Figure size 720x432 with 1 Axes>"
      ]
     },
     "metadata": {
      "needs_background": "light"
     },
     "output_type": "display_data"
    }
   ],
   "source": [
    "sample = [1, 2, 3, 4, 5, 6]\n",
    "distance = [3.50E+01, 9.76E+03, 1.45E+04, 7.40E+04, 6.81E+05, 9.02E+07]\n",
    "\n",
    "plt.figure(figsize=(10, 6))\n",
    "\n",
    "plt.plot(sample, distance, marker='o', color='blue')\n",
    "plt.title('Logarithmic Scale Plot')\n",
    "plt.xlabel('Sample')\n",
    "plt.ylabel('Distance')\n",
    "plt.yscale('log')  # Set y-axis to logarithmic scale\n",
    "\n",
    "plt.show()"
   ]
  },
  {
   "cell_type": "code",
   "execution_count": 17,
   "id": "96cc974b",
   "metadata": {},
   "outputs": [],
   "source": [
    "#straight line linear regression"
   ]
  },
  {
   "cell_type": "code",
   "execution_count": 18,
   "id": "bbd1a165",
   "metadata": {},
   "outputs": [
    {
     "name": "stdout",
     "output_type": "stream",
     "text": [
      "r^2 value: 0.7867\n",
      "Slope Formula: y = 1.1286x + 22.4290\n"
     ]
    },
    {
     "data": {
      "image/png": "[encoded data removed]",
      "text/plain": [
       "<Figure size 720x432 with 1 Axes>"
      ]
     },
     "metadata": {
      "needs_background": "light"
     },
     "output_type": "display_data"
    }
   ],
   "source": [
    "from scipy.stats import linregress\n",
    "\n",
    "# Data\n",
    "distance = [\n",
    "    1, 1, 2, 4, 4, 5, 10, 20, 20, 22, 45, 50,\n",
    "    50, 50, 75, 75, 75, 75, 85, 87, 99, 100,\n",
    "    125, 130, 145, 152\n",
    "]\n",
    "\n",
    "amount_spent = [\n",
    "    35, 13, 40, 20, 15, 35, 35, 50, 25, 40, 35, 75,\n",
    "    125, 67, 99, 149, 110, 120, 130, 75, 101, 200,\n",
    "    125, 220, 150, 195\n",
    "]\n",
    "\n",
    "# Calculate linear regression\n",
    "slope, intercept, r_value, p_value, std_err = linregress(distance, amount_spent)\n",
    "\n",
    "# Create scatter plot\n",
    "plt.figure(figsize=(10, 6))\n",
    "plt.scatter(distance, amount_spent, color='blue', marker='o', label='Data')\n",
    "plt.plot(distance, intercept + slope * np.array(distance), color='red', label='Trendline')\n",
    "\n",
    "plt.title('Distance vs Amount Spent with Trendline')\n",
    "plt.xlabel('Distance')\n",
    "plt.ylabel('Amount Spent')\n",
    "plt.legend()\n",
    "\n",
    "# Calculate and print r^2 value\n",
    "r_squared = r_value ** 2\n",
    "print(f\"r^2 value: {r_squared:.4f}\")\n",
    "\n",
    "# Print formula for the slope of the line\n",
    "print(f\"Slope Formula: y = {slope:.4f}x + {intercept:.4f}\")\n",
    "\n",
    "plt.show()"
   ]
  },
  {
   "cell_type": "code",
   "execution_count": 19,
   "id": "472e8dd8",
   "metadata": {},
   "outputs": [],
   "source": [
    "#forecast future results"
   ]
  },
  {
   "cell_type": "code",
   "execution_count": 20,
   "id": "301c095f",
   "metadata": {},
   "outputs": [
    {
     "name": "stdout",
     "output_type": "stream",
     "text": [
      "Quarter\tYear\tSales\n",
      "Q1\t2021\t$345,000\n",
      "Q2\t2021\t$285,000\n",
      "Q3\t2021\t$330,000\n",
      "Q4\t2021\t$402,000\n",
      "Q1\t2022\t$199,000\n",
      "Q2\t2022\t$450,000\n",
      "Q3\t2022\t$395,000\n",
      "Q4\t2022\t$407,000\n",
      "\n",
      "Forecasted Sales:\n",
      "Q1\t2023\t$226,375\n",
      "Q2\t2023\t$419,062\n",
      "Q3\t2023\t$382,812\n",
      "Q4\t2023\t$406,062\n"
     ]
    }
   ],
   "source": [
    "import pandas as pd\n",
    "\n",
    "# Original data\n",
    "data = {\n",
    "    \"Quarter\": [\"Q1 2021\", \"Q2 2021\", \"Q3 2021\", \"Q4 2021\", \"Q1 2022\", \"Q2 2022\", \"Q3 2022\", \"Q4 2022\"],\n",
    "    \"Sales\": [345000, 285000, 330000, 402000, 199000, 450000, 395000, 407000]\n",
    "}\n",
    "\n",
    "# Create a DataFrame\n",
    "df = pd.DataFrame(data)\n",
    "\n",
    "# Extract year and quarter\n",
    "df[[\"Quarter\", \"Year\"]] = df[\"Quarter\"].str.split(\" \", expand=True)\n",
    "\n",
    "# Pivot the DataFrame\n",
    "pivot_df = df.pivot(index=\"Year\", columns=\"Quarter\", values=\"Sales\")\n",
    "\n",
    "# Convert index to PeriodIndex\n",
    "pivot_df.index = pd.PeriodIndex(pivot_df.index, freq=\"Q\")\n",
    "\n",
    "# Fill missing quarters and interpolate\n",
    "pivot_df = pivot_df.reindex(pd.period_range(start=pivot_df.index.min(), end=pivot_df.index.max() + 1, freq=\"Q\"))\n",
    "pivot_df.interpolate(method=\"linear\", axis=0, inplace=True)\n",
    "\n",
    "# Calculate the moving average forecast\n",
    "forecasted_sales = {}\n",
    "window_size = 4  # You can adjust the window size as needed\n",
    "for col in pivot_df.columns:\n",
    "    moving_average = pivot_df[col].rolling(window=window_size, min_periods=1).mean()\n",
    "    forecast = moving_average[-1]  # Forecast for the next quarter is the moving average of the last available data\n",
    "    forecasted_sales[col] = forecast\n",
    "\n",
    "# Print the input data\n",
    "print(\"Quarter\\tYear\\tSales\")\n",
    "for index, row in df.iterrows():\n",
    "    print(f\"{row['Quarter']}\\t{row['Year']}\\t${row['Sales']:,.0f}\")\n",
    "\n",
    "# Print the forecasted sales\n",
    "print(\"\\nForecasted Sales:\")\n",
    "for quarter, forecast in forecasted_sales.items():\n",
    "    formatted_forecast = f\"${forecast:,.0f}\" if not pd.isna(forecast) else \"\"\n",
    "    print(f\"{quarter}\\t{pivot_df.index.max().year + 1}\\t{formatted_forecast}\")\n"
   ]
  },
  {
   "cell_type": "code",
   "execution_count": 21,
   "id": "babb0b21",
   "metadata": {},
   "outputs": [],
   "source": [
    "#calculate running averages"
   ]
  },
  {
   "cell_type": "code",
   "execution_count": 22,
   "id": "d7d9e3a5",
   "metadata": {},
   "outputs": [
    {
     "name": "stdout",
     "output_type": "stream",
     "text": [
      "        Month  Customers  Running Total  Running Average  \\\n",
      "0     January       4969           4969      4969.000000   \n",
      "1    February       5705          10674      5337.000000   \n",
      "2       March       9721          20395      6798.333333   \n",
      "3       April       6481          26876      6719.000000   \n",
      "4         May       5311          32187      6437.400000   \n",
      "5        June       6987          39174      6529.000000   \n",
      "6        July       8435          47609      6801.285714   \n",
      "7      August       3443          51052      6381.500000   \n",
      "8   September       3859          54911      6101.222222   \n",
      "9     October       4835          59746      5974.600000   \n",
      "10   November       9139          68885      6262.272727   \n",
      "11   December       9928          78813      6567.750000   \n",
      "\n",
      "    3-month Running Average  \n",
      "0               4969.000000  \n",
      "1               5337.000000  \n",
      "2               6798.333333  \n",
      "3               7302.333333  \n",
      "4               7171.000000  \n",
      "5               6259.666667  \n",
      "6               6911.000000  \n",
      "7               6288.333333  \n",
      "8               5245.666667  \n",
      "9               4045.666667  \n",
      "10              5944.333333  \n",
      "11              7967.333333  \n"
     ]
    }
   ],
   "source": [
    "import pandas as pd\n",
    "\n",
    "# Original data\n",
    "data = {\n",
    "    \"Month\": [\"January\", \"February\", \"March\", \"April\", \"May\", \"June\", \"July\", \"August\", \"September\", \"October\", \"November\", \"December\"],\n",
    "    \"Customers\": [4969, 5705, 9721, 6481, 5311, 6987, 8435, 3443, 3859, 4835, 9139, 9928]\n",
    "}\n",
    "\n",
    "# Create a DataFrame\n",
    "df = pd.DataFrame(data)\n",
    "\n",
    "# Calculate running total\n",
    "df[\"Running Total\"] = df[\"Customers\"].cumsum()\n",
    "\n",
    "# Calculate running average\n",
    "df[\"Running Average\"] = df[\"Running Total\"] / (df.index + 1)\n",
    "\n",
    "# Calculate 3-month running average\n",
    "df[\"3-month Running Average\"] = df[\"Customers\"].rolling(window=3, min_periods=1).mean()\n",
    "\n",
    "# Print the filled data table\n",
    "print(df)\n"
   ]
  },
  {
   "cell_type": "code",
   "execution_count": 23,
   "id": "5792c838",
   "metadata": {},
   "outputs": [],
   "source": [
    "#Challenge Summarize Operational Data"
   ]
  },
  {
   "cell_type": "code",
   "execution_count": 87,
   "id": "d8ffa719",
   "metadata": {},
   "outputs": [
    {
     "data": {
      "image/png": "[encoded data removed]",
      "text/plain": [
       "<Figure size 864x432 with 2 Axes>"
      ]
     },
     "metadata": {
      "needs_background": "light"
     },
     "output_type": "display_data"
    },
    {
     "name": "stdout",
     "output_type": "stream",
     "text": [
      "    Day  Customers   Sales  Running Average\n",
      "0     1         26  1359.0            26.00\n",
      "1     2         21  1092.0            23.50\n",
      "2     3         21  1086.0            22.67\n",
      "3     4         39  1870.0            26.75\n",
      "4     5         43  2036.0            30.00\n",
      "5     6         13   853.0            27.17\n",
      "6     7         24  1188.0            26.71\n",
      "7     8         10   748.0            24.62\n",
      "8     9         30  1553.0            25.22\n",
      "9    10         31  1620.0            25.80\n",
      "10   11         25   461.0            25.73\n",
      "11   12         19  1128.0            25.17\n",
      "12   13         12   791.0            24.15\n",
      "13   14         21  1104.0            23.93\n",
      "14   15         23  1349.0            23.87\n",
      "15   16         31  1668.0            24.31\n",
      "16   17         32  1547.0            24.76\n",
      "17   18         21  1204.0            24.56\n",
      "18   19         54  2599.0            26.11\n",
      "19   20         24  1302.0            26.00\n",
      "20   21         44  2156.0            26.86\n",
      "21   22         26  1269.0            26.82\n",
      "22   23         12   189.0            26.17\n",
      "23   24         17  1031.0            25.79\n",
      "24   25         31  1474.0            26.00\n",
      "25   26         23  1224.0            25.88\n",
      "26   27         26  1453.0            25.89\n",
      "27   28         37  1866.0            26.29\n",
      "28   29         31  1516.0            26.45\n",
      "29   30         16   848.0            26.10\n"
     ]
    }
   ],
   "source": [
    "import pandas as pd\n",
    "from scipy import stats\n",
    "\n",
    "# Original data\n",
    "data = {\n",
    "    \"Day\": list(range(1, 31)),\n",
    "    \"Customers\": [26, 21, 21, 39, 43, 13, 24, 10, 30, 31, 25, 19, 12, 21, 23, 31, 32, 21, 54, 24, 44, 26, 12, 17, 31, 23, 26, 37, 31, 16],\n",
    "    \"Sales\": [1359.00, 1092.00, 1086.00, 1870.00, 2036.00, 853.00, 1188.00, 748.00, 1553.00, 1620.00, 461.00, 1128.00, 791.00, 1104.00, 1349.00, 1668.00, 1547.00, 1204.00, 2599.00, 1302.00, 2156.00, 1269.00, 189.00, 1031.00, 1474.00, 1224.00, 1453.00, 1866.00, 1516.00, 848.00]\n",
    "}\n",
    "\n",
    "# Create a DataFrame\n",
    "df = pd.DataFrame(data)\n",
    "\n",
    "# Calculate running average\n",
    "df[\"Running Average\"] = df[\"Customers\"].expanding().mean().round(2)\n",
    "\n",
    "# Create an XY scatter plot of Customers vs. Sales with trendline\n",
    "plt.figure(figsize=(12, 6))\n",
    "\n",
    "# Scatter plot\n",
    "plt.subplot(1, 2, 1)\n",
    "plt.scatter(df[\"Customers\"], df[\"Sales\"], color=\"green\", marker=\"o\", label=\"Data\")\n",
    "slope, intercept, r_value, p_value, std_err = stats.linregress(df[\"Customers\"], df[\"Sales\"])\n",
    "line = slope * df[\"Customers\"] + intercept\n",
    "plt.plot(df[\"Customers\"], line, color=\"red\", label=\"Trendline\")\n",
    "plt.xlabel(\"Customers\")\n",
    "plt.ylabel(\"Sales\")\n",
    "plt.title(\"Customers vs. Sales with Trendline\")\n",
    "plt.grid(True)\n",
    "plt.legend()\n",
    "\n",
    "# Calculate R-squared\n",
    "r_squared = r_value ** 2\n",
    "slope_formula = f\"Slope Formula: y = {slope:.2f}x + {intercept:.2f}\"\n",
    "r_squared_text = f\"R-squared: {r_squared:.4f}\"\n",
    "plt.text(10, 2000, slope_formula, fontsize=10, color=\"blue\")\n",
    "plt.text(10, 1800, r_squared_text, fontsize=10, color=\"blue\")\n",
    "\n",
    "# Histogram of Sales\n",
    "plt.subplot(1, 2, 2)\n",
    "plt.hist(df[\"Sales\"], bins=10, color=\"purple\", edgecolor=\"black\")\n",
    "plt.xlabel(\"Sales\")\n",
    "plt.ylabel(\"Frequency\")\n",
    "plt.title(\"Sales Histogram\")\n",
    "plt.grid(True)\n",
    "\n",
    "plt.tight_layout()\n",
    "plt.show()\n",
    "\n",
    "# Print the DataFrame with running average\n",
    "print(df)\n"
   ]
  },
  {
   "cell_type": "code",
   "execution_count": 88,
   "id": "cc782795",
   "metadata": {},
   "outputs": [],
   "source": [
    "#Normal Distribution"
   ]
  },
  {
   "cell_type": "code",
   "execution_count": 89,
   "id": "ec75f869",
   "metadata": {},
   "outputs": [
    {
     "name": "stdout",
     "output_type": "stream",
     "text": [
      "Mean (mu): 100\n",
      "Standard Deviation (sigma): 20\n",
      "Probability of exactly 92: 0.018414\n",
      "Probability of 92 or more: 0.655422\n"
     ]
    },
    {
     "data": {
      "image/png": "[encoded data removed]",
      "text/plain": [
       "<Figure size 720x432 with 1 Axes>"
      ]
     },
     "metadata": {
      "needs_background": "light"
     },
     "output_type": "display_data"
    }
   ],
   "source": [
    "from scipy.stats import norm\n",
    "\n",
    "# Given data\n",
    "data = {\n",
    "    \"Value\": [36, 38, 40, 42, 44, 46, 48, 50, 52, 54, 56, 58, 60, 62, 64, 66, 68, 70, 72, 74, 76, 78, 80, 82, 84, 86, 88, 90,\n",
    "              92, 94, 96, 98, 100, 102, 104, 106, 108, 110, 112, 114, 116, 118, 120, 122, 124, 126, 128, 130, 132, 134, 136, 138, 140,\n",
    "              142, 144, 146, 148, 150, 152, 154, 156, 158, 160, 162, 164],\n",
    "    \"Probability\": [0.000119204, 0.000163341, 0.000221592, 0.000297627, 0.000395773, 0.000521047, 0.000679148, 0.000876415,\n",
    "                    0.001119727, 0.001416352, 0.00177373, 0.00219918, 0.002699548, 0.003280791, 0.003947508, 0.004702454,\n",
    "                    0.005546042, 0.00647588, 0.007486373, 0.00856843, 0.009709303, 0.010892609, 0.012098536, 0.013304262,\n",
    "                    0.014484578, 0.015612697, 0.01666123, 0.017603266, 0.018413507, 0.019069391, 0.019552135, 0.019847627,\n",
    "                    0.019947114, 0.019847627, 0.019552135, 0.019069391, 0.018413507, 0.017603266, 0.01666123, 0.015612697,\n",
    "                    0.014484578, 0.013304262, 0.012098536, 0.010892609, 0.009709303, 0.00856843, 0.007486373, 0.00647588,\n",
    "                    0.005546042, 0.004702454, 0.003947508, 0.003280791, 0.002699548, 0.00219918, 0.00177373, 0.001416352,\n",
    "                    0.001119727, 0.000876415, 0.000679148, 0.000521047, 0.000395773, 0.000297627, 0.000221592, 0.000163341,\n",
    "                    0.000119204]\n",
    "}\n",
    "\n",
    "# Calculate mean and standard deviation\n",
    "mean = 100\n",
    "std_dev = 20\n",
    "\n",
    "# Calculate probabilities\n",
    "prob_exactly_92 = norm.pdf(92, mean, std_dev)\n",
    "prob_92_or_more = 1 - norm.cdf(92, mean, std_dev)\n",
    "\n",
    "# Print mean and standard deviation\n",
    "print(f\"Mean (mu): {mean}\")\n",
    "print(f\"Standard Deviation (sigma): {std_dev}\")\n",
    "\n",
    "# Print probabilities\n",
    "print(f\"Probability of exactly 92: {prob_exactly_92:.6f}\")\n",
    "print(f\"Probability of 92 or more: {prob_92_or_more:.6f}\")\n",
    "\n",
    "# Plot the normal distribution\n",
    "plt.figure(figsize=(10, 6))\n",
    "plt.plot(data[\"Value\"], data[\"Probability\"], color='blue')\n",
    "plt.xlabel(\"Value\")\n",
    "plt.ylabel(\"Probability\")\n",
    "plt.title(\"Normal Distribution\")\n",
    "plt.grid(True)\n",
    "plt.show()\n"
   ]
  },
  {
   "cell_type": "code",
   "execution_count": null,
   "id": "503a5388",
   "metadata": {},
   "outputs": [],
   "source": [
    "#Binomial Distribution"
   ]
  },
  {
   "cell_type": "code",
   "execution_count": 96,
   "id": "6b89169f",
   "metadata": {},
   "outputs": [
    {
     "name": "stdout",
     "output_type": "stream",
     "text": [
      "Number of Successes\tProbability (%)\n",
      "0\t\t\t0.018125\n",
      "1\t\t\t0.195187\n",
      "2\t\t\t0.998459\n",
      "3\t\t\t3.225790\n",
      "4\t\t\t7.382096\n",
      "5\t\t\t12.719919\n",
      "6\t\t\t17.122967\n",
      "7\t\t\t18.440119\n",
      "8\t\t\t16.135104\n",
      "9\t\t\t11.584177\n",
      "10\t\t\t6.861397\n",
      "11\t\t\t3.358726\n",
      "12\t\t\t1.356409\n",
      "13\t\t\t0.449461\n",
      "14\t\t\t0.121009\n",
      "15\t\t\t0.026063\n",
      "16\t\t\t0.004386\n",
      "17\t\t\t0.000556\n",
      "18\t\t\t0.000050\n",
      "19\t\t\t0.000003\n",
      "20\t\t\t0.000000\n"
     ]
    },
    {
     "data": {
      "image/png": "[encoded data removed]",
      "text/plain": [
       "<Figure size 432x288 with 1 Axes>"
      ]
     },
     "metadata": {
      "needs_background": "light"
     },
     "output_type": "display_data"
    }
   ],
   "source": [
    "# Given probability of success and number of trials\n",
    "p_success = 0.35\n",
    "n_trials = 20\n",
    "\n",
    "# Calculate probabilities for different numbers of successes\n",
    "probabilities = [stats.binom.pmf(k, n_trials, p_success) for k in range(n_trials + 1)]\n",
    "\n",
    "# Convert probabilities to percentages\n",
    "probabilities_percentage = [prob * 100 for prob in probabilities]\n",
    "\n",
    "# Print the results\n",
    "print(\"Number of Successes\\tProbability (%)\")\n",
    "for k, probability in enumerate(probabilities_percentage):\n",
    "    print(f\"{k}\\t\\t\\t{probability:.6f}\")\n",
    "\n",
    "# Plot the probability distribution\n",
    "plt.bar(range(n_trials + 1), probabilities_percentage)\n",
    "plt.xlabel(\"Number of Successes\")\n",
    "plt.ylabel(\"Probability (%)\")\n",
    "plt.title(\"Binomial Distribution\")\n",
    "plt.xticks(range(n_trials + 1))\n",
    "plt.show()\n"
   ]
  },
  {
   "cell_type": "code",
   "execution_count": 32,
   "id": "10428b5c",
   "metadata": {},
   "outputs": [],
   "source": [
    "#Model Operational Data Using Distributions"
   ]
  },
  {
   "cell_type": "code",
   "execution_count": 33,
   "id": "ec074369",
   "metadata": {},
   "outputs": [
    {
     "name": "stdout",
     "output_type": "stream",
     "text": [
      "Percent of Values Less than 119 : 22.9 %\n",
      "Percent of Values Between 119 and 185 : 64.5 %\n",
      "Percent of Values Greater than 185 : 12.7 %\n",
      "Value for 42% of Values Below: 137.9\n",
      "Value for 18% of Values Above: 177.0\n"
     ]
    }
   ],
   "source": [
    "# Given parameters\n",
    "mean = 145\n",
    "std_dev = 35\n",
    "\n",
    "# Values for which to calculate probabilities\n",
    "value1 = 119\n",
    "value2 = 185\n",
    "\n",
    "# Calculate probabilities using the normal distribution CDF\n",
    "percent_less_than_119 = round(stats.norm.cdf(value1, loc=mean, scale=std_dev) * 100, 1)\n",
    "percent_between_119_and_185 = round((stats.norm.cdf(value2, loc=mean, scale=std_dev) - stats.norm.cdf(value1, loc=mean, scale=std_dev)) * 100, 1)\n",
    "percent_greater_than_185 = round((1 - stats.norm.cdf(value2, loc=mean, scale=std_dev)) * 100, 1)\n",
    "\n",
    "# Print the results\n",
    "print(\"Percent of Values Less than\", value1, \":\", percent_less_than_119, \"%\")\n",
    "print(\"Percent of Values Between\", value1, \"and\", value2, \":\", percent_between_119_and_185, \"%\")\n",
    "print(\"Percent of Values Greater than\", value2, \":\", percent_greater_than_185, \"%\")\n",
    "\n",
    "# Percentiles for which to calculate values\n",
    "percent_below = 0.42  # 42% of values below\n",
    "percent_above = 0.18  # 18% of values above\n",
    "\n",
    "# Calculate values using the normal distribution ppf (inverse CDF) and round the results\n",
    "value_below = round(stats.norm.ppf(percent_below, loc=mean, scale=std_dev), 1)\n",
    "value_above = round(stats.norm.ppf(1 - percent_above, loc=mean, scale=std_dev), 1)\n",
    "\n",
    "# Print the results\n",
    "print(\"Value for 42% of Values Below:\", value_below)\n",
    "print(\"Value for 18% of Values Above:\", value_above)\n"
   ]
  },
  {
   "cell_type": "code",
   "execution_count": 97,
   "id": "311f916b",
   "metadata": {},
   "outputs": [
    {
     "name": "stdout",
     "output_type": "stream",
     "text": [
      "Interval\tProbability\n",
      "1\t\t0.003019164\n",
      "2\t\t0.013753968\n",
      "3\t\t0.042380112\n",
      "4\t\t0.0996324\n",
      "5\t\t0.191236062\n",
      "6\t\t0.313374278\n",
      "7\t\t0.452960809\n",
      "8\t\t0.592547341\n",
      "9\t\t0.716624259\n",
      "10\t\t0.815885793\n",
      "11\t\t0.888075999\n",
      "12\t\t0.936202803\n",
      "13\t\t0.965819298\n",
      "14\t\t0.98274301\n",
      "15\t\t1\n"
     ]
    },
    {
     "data": {
      "image/png": "[encoded data removed]",
      "text/plain": [
       "<Figure size 432x288 with 1 Axes>"
      ]
     },
     "metadata": {
      "needs_background": "light"
     },
     "output_type": "display_data"
    }
   ],
   "source": [
    "# Given lambda\n",
    "lambda_value = 8\n",
    "\n",
    "# Intervals for which to calculate probabilities\n",
    "intervals = list(range(1, 16))\n",
    "\n",
    "# Calculate probabilities using the Poisson distribution pmf and round the results\n",
    "probabilities = [round(stats.poisson.cdf(x, mu=lambda_value), 9) if x < 15 else 1 for x in intervals]\n",
    "\n",
    "# Print the results\n",
    "print(\"Interval\\tProbability\")\n",
    "for interval, probability in zip(intervals, probabilities):\n",
    "    print(f\"{interval}\\t\\t{probability}\")\n",
    "\n",
    "# Plot the cumulative distribution function\n",
    "plt.plot(intervals, probabilities, marker='o')\n",
    "plt.title('Poisson Distribution CDF')\n",
    "plt.xlabel('Interval')\n",
    "plt.ylabel('Probability')\n",
    "plt.grid(True)\n",
    "plt.show()\n",
    "\n"
   ]
  },
  {
   "cell_type": "code",
   "execution_count": 35,
   "id": "fb7d481f",
   "metadata": {},
   "outputs": [],
   "source": [
    "# Given lambda (rate parameter for exponential distribution)"
   ]
  },
  {
   "cell_type": "code",
   "execution_count": 98,
   "id": "f2f67888",
   "metadata": {},
   "outputs": [
    {
     "name": "stdout",
     "output_type": "stream",
     "text": [
      "Service Time\tProbability\n",
      "1\t0.221199217\n",
      "2\t0.393469340\n",
      "3\t0.527633447\n",
      "4\t0.632120559\n",
      "5\t0.713495203\n",
      "6\t0.776869840\n",
      "7\t0.826226057\n",
      "8\t0.864664717\n",
      "9\t0.894600775\n",
      "10\t0.917915001\n",
      "11\t0.936072139\n",
      "12\t0.950212932\n",
      "13\t0.961225792\n",
      "14\t0.969802617\n",
      "15\t0.976482254\n"
     ]
    },
    {
     "data": {
      "image/png": "[encoded data removed]",
      "text/plain": [
       "<Figure size 432x288 with 1 Axes>"
      ]
     },
     "metadata": {
      "needs_background": "light"
     },
     "output_type": "display_data"
    }
   ],
   "source": [
    "# Given lambda (rate parameter for exponential distribution)\n",
    "lambda_value = 4\n",
    "\n",
    "# Service Time values for which to calculate probabilities\n",
    "service_times = list(range(1, 16))\n",
    "\n",
    "# Calculate probabilities using the exponential distribution cdf and round the results\n",
    "probabilities = [round(stats.expon.cdf(x, scale=lambda_value), 9) for x in service_times]\n",
    "\n",
    "# Print the results\n",
    "print(\"Service Time\\tProbability\")\n",
    "for time, probability in zip(service_times, probabilities):\n",
    "    print(f\"{time}\\t{probability:.9f}\")\n",
    "\n",
    "# Plot the cumulative distribution function\n",
    "plt.plot(service_times, probabilities, marker='o')\n",
    "plt.title('Exponential Distribution CDF')\n",
    "plt.xlabel('Service Time')\n",
    "plt.ylabel('Probability')\n",
    "plt.grid(True)\n",
    "plt.show()\n"
   ]
  },
  {
   "cell_type": "code",
   "execution_count": null,
   "id": "594aebc2",
   "metadata": {},
   "outputs": [],
   "source": [
    "#poisson distribution"
   ]
  },
  {
   "cell_type": "code",
   "execution_count": 93,
   "id": "7337e075",
   "metadata": {},
   "outputs": [
    {
     "name": "stdout",
     "output_type": "stream",
     "text": [
      "Value\tProbability\n",
      "0\t0.000912\n",
      "1\t0.006383\n",
      "2\t0.022341\n",
      "3\t0.052129\n",
      "4\t0.091226\n",
      "5\t0.127717\n",
      "6\t0.149003\n",
      "7\t0.149003\n",
      "8\t0.130377\n",
      "9\t0.101405\n",
      "10\t0.070983\n",
      "11\t0.045171\n",
      "12\t0.026350\n",
      "13\t0.014188\n",
      "14\t0.007094\n",
      "15\t0.003311\n",
      "16\t0.001448\n",
      "17\t0.000596\n",
      "18\t0.000232\n"
     ]
    },
    {
     "data": {
      "image/png": "[encoded data removed]",
      "text/plain": [
       "<Figure size 432x288 with 1 Axes>"
      ]
     },
     "metadata": {
      "needs_background": "light"
     },
     "output_type": "display_data"
    }
   ],
   "source": [
    "from scipy.stats import poisson\n",
    "\n",
    "# Given mean\n",
    "mean = 7\n",
    "\n",
    "# Values for which to calculate probabilities\n",
    "values = np.arange(0, 19)\n",
    "\n",
    "# Calculate probabilities using the Poisson distribution pmf\n",
    "probabilities = [poisson.pmf(x, mean) for x in values]\n",
    "\n",
    "# Print the table\n",
    "print(\"Value\\tProbability\")\n",
    "for value, probability in zip(values, probabilities):\n",
    "    print(f\"{value}\\t{probability:.6f}\")\n",
    "\n",
    "# Create a plot\n",
    "plt.bar(values, probabilities)\n",
    "plt.title(\"Poisson Probability Mass Function\")\n",
    "plt.xlabel(\"Value\")\n",
    "plt.ylabel(\"Probability\")\n",
    "plt.show()\n"
   ]
  },
  {
   "cell_type": "code",
   "execution_count": null,
   "id": "752a75fe",
   "metadata": {},
   "outputs": [],
   "source": [
    "#Exponential Distribution"
   ]
  },
  {
   "cell_type": "code",
   "execution_count": 94,
   "id": "bbc3c39d",
   "metadata": {},
   "outputs": [
    {
     "name": "stdout",
     "output_type": "stream",
     "text": [
      "Minutes\tProbability\n",
      "1\t0.163746\n",
      "2\t0.134064\n",
      "3\t0.109762\n",
      "4\t0.089866\n",
      "5\t0.073576\n",
      "6\t0.060239\n",
      "7\t0.049319\n",
      "8\t0.040379\n",
      "9\t0.033060\n",
      "10\t0.027067\n",
      "11\t0.022161\n",
      "12\t0.018144\n",
      "13\t0.014855\n",
      "14\t0.012162\n",
      "15\t0.009957\n",
      "16\t0.008152\n",
      "17\t0.006675\n",
      "18\t0.005465\n",
      "19\t0.004474\n",
      "20\t0.003663\n",
      "21\t0.002999\n",
      "22\t0.002455\n",
      "23\t0.002010\n",
      "24\t0.001646\n",
      "25\t0.001348\n"
     ]
    },
    {
     "data": {
      "image/png": "[encoded data removed]",
      "text/plain": [
       "<Figure size 432x288 with 1 Axes>"
      ]
     },
     "metadata": {
      "needs_background": "light"
     },
     "output_type": "display_data"
    }
   ],
   "source": [
    "from scipy.stats import expon\n",
    "\n",
    "# Given mean\n",
    "mean = 5\n",
    "\n",
    "# Values for which to calculate probabilities\n",
    "values = np.arange(1, 26)\n",
    "\n",
    "# Calculate probabilities using the exponential distribution pdf\n",
    "probabilities = [expon.pdf(x, scale=mean) for x in values]\n",
    "\n",
    "# Print the table\n",
    "print(\"Minutes\\tProbability\")\n",
    "for value, probability in zip(values, probabilities):\n",
    "    print(f\"{value}\\t{probability:.6f}\")\n",
    "\n",
    "# Create a line chart plot\n",
    "plt.plot(values, probabilities, marker='o')\n",
    "plt.title(\"Exponential Probability Density Function\")\n",
    "plt.xlabel(\"Minutes\")\n",
    "plt.ylabel(\"Probability\")\n",
    "plt.xticks(values)\n",
    "plt.grid(True)\n",
    "plt.show()\n"
   ]
  },
  {
   "cell_type": "code",
   "execution_count": 36,
   "id": "a0363502",
   "metadata": {},
   "outputs": [],
   "source": [
    "#Single Covariance"
   ]
  },
  {
   "cell_type": "code",
   "execution_count": 29,
   "id": "48a2cf2e",
   "metadata": {},
   "outputs": [
    {
     "name": "stdout",
     "output_type": "stream",
     "text": [
      "   Column1  Column2  Covariance\n",
      "0        1        3           3\n",
      "1        4        2           8\n",
      "2        7        1           7\n",
      "3        2        4           8\n",
      "4        3        9          27\n",
      "5        5        6          30\n",
      "6        8        8          64\n",
      "7        1        4           4\n",
      "8        6        4          24\n",
      "9        9        2          18\n"
     ]
    }
   ],
   "source": [
    "import pandas as pd\n",
    "\n",
    "# Create a DataFrame with the given data\n",
    "data = {\n",
    "    'Column1': [1, 4, 7, 2, 3, 5, 8, 1, 6, 9],\n",
    "    'Column2': [3, 2, 1, 4, 9, 6, 8, 4, 4, 2]\n",
    "}\n",
    "\n",
    "df = pd.DataFrame(data)\n",
    "\n",
    "# Calculate the covariance for each row\n",
    "df['Covariance'] = df.apply(lambda row: row['Column1'] * row['Column2'], axis=1)\n",
    "\n",
    "# Print the result\n",
    "print(df)\n"
   ]
  },
  {
   "cell_type": "code",
   "execution_count": 37,
   "id": "69b50f54",
   "metadata": {},
   "outputs": [],
   "source": [
    "#Multiple Covariance"
   ]
  },
  {
   "cell_type": "code",
   "execution_count": 71,
   "id": "e8a03546",
   "metadata": {},
   "outputs": [
    {
     "name": "stdout",
     "output_type": "stream",
     "text": [
      "Covariance Matrix:\n",
      "           Column1   Column2    Column3   Column4\n",
      "Column1   8.266667 -0.533333  16.533333  4.222222\n",
      "Column2  -0.533333  6.900000  -8.177778  1.611111\n",
      "Column3  16.533333 -8.177778  60.844444 -1.555556\n",
      "Column4   4.222222  1.611111  -1.555556  9.166667\n"
     ]
    }
   ],
   "source": [
    "import pandas as pd\n",
    "\n",
    "# Create a DataFrame with the given data\n",
    "data = {\n",
    "    'Column1': [1, 4, 7, 2, 3, 5, 8, 1, 6, 9],\n",
    "    'Column2': [3, 2, 1, 4, 9, 6, 8, 4, 4, 2],\n",
    "    'Column3': [100, 104, 108, 90, 94, 103, 100, 85, 98, 110],\n",
    "    'Column4': [70, 71, 72, 73, 74, 75, 76, 77, 78, 79]\n",
    "}\n",
    "\n",
    "df = pd.DataFrame(data)\n",
    "\n",
    "# Calculate the covariance matrix\n",
    "cov_matrix = df.cov()\n",
    "\n",
    "# Print the covariance matrix\n",
    "print(\"Covariance Matrix:\")\n",
    "print(cov_matrix)\n"
   ]
  },
  {
   "cell_type": "code",
   "execution_count": null,
   "id": "e73d7bbe",
   "metadata": {},
   "outputs": [],
   "source": [
    "#single correlation"
   ]
  },
  {
   "cell_type": "code",
   "execution_count": 84,
   "id": "349866de",
   "metadata": {},
   "outputs": [
    {
     "name": "stdout",
     "output_type": "stream",
     "text": [
      "Column1\tColumn2\tCorrelation\n",
      "---------------------------\n",
      "1\t\t3\t\t-0.070617\n",
      "4\t\t2\t\t-0.070617\n",
      "7\t\t1\t\t-0.070617\n",
      "2\t\t4\t\t-0.070617\n",
      "3\t\t9\t\t-0.070617\n",
      "5\t\t6\t\t-0.070617\n",
      "8\t\t8\t\t-0.070617\n",
      "1\t\t4\t\t-0.070617\n",
      "6\t\t4\t\t-0.070617\n",
      "9\t\t2\t\t-0.070617\n"
     ]
    }
   ],
   "source": [
    "data = {\n",
    "    'Column1': [1, 4, 7, 2, 3, 5, 8, 1, 6, 9],\n",
    "    'Column2': [3, 2, 1, 4, 9, 6, 8, 4, 4, 2]\n",
    "}\n",
    "\n",
    "column1_values = data['Column1']\n",
    "column2_values = data['Column2']\n",
    "\n",
    "print(\"Column1\\tColumn2\\tCorrelation\")\n",
    "print(\"---------------------------\")\n",
    "\n",
    "for x, y in zip(column1_values, column2_values):\n",
    "    correlation_matrix = np.corrcoef([column1_values, column2_values])\n",
    "    correlation = correlation_matrix[0, 1]\n",
    "    print(f\"{x}\\t\\t{y}\\t\\t{correlation:.6f}\")\n"
   ]
  },
  {
   "cell_type": "code",
   "execution_count": null,
   "id": "bf35d0e8",
   "metadata": {},
   "outputs": [],
   "source": [
    "#multiple correlation"
   ]
  },
  {
   "cell_type": "code",
   "execution_count": 85,
   "id": "0c1d53e4",
   "metadata": {},
   "outputs": [
    {
     "name": "stdout",
     "output_type": "stream",
     "text": [
      "\t Column1\tColumn2\tColumn3\tColumn4\n",
      "Column1 -\t-0.070617\t0.737199\t0.485032\n",
      "Column2 -\t-\t-0.399117\t0.202579\n",
      "Column3 -\t-\t-\t-0.065867\n",
      "Column4 -\t-\t-\t-\n"
     ]
    }
   ],
   "source": [
    "data = {\n",
    "    'Column1': [1, 4, 7, 2, 3, 5, 8, 1, 6, 9],\n",
    "    'Column2': [3, 2, 1, 4, 9, 6, 8, 4, 4, 2],\n",
    "    'Column3': [100, 104, 108, 90, 94, 103, 100, 85, 98, 110],\n",
    "    'Column4': [70, 71, 72, 73, 74, 75, 76, 77, 78, 79]\n",
    "}\n",
    "\n",
    "# Stack the columns into a matrix\n",
    "matrix = np.column_stack((data['Column1'], data['Column2'], data['Column3'], data['Column4']))\n",
    "\n",
    "# Calculate the correlation matrix\n",
    "correlation_matrix = np.corrcoef(matrix, rowvar=False)\n",
    "\n",
    "# Print the correlation matrix in the desired format\n",
    "columns = list(data.keys())\n",
    "header = '\\t'.join(columns)\n",
    "print('\\t', header)\n",
    "for i, column in enumerate(columns):\n",
    "    row = ['-' if j <= i else f\"{correlation_matrix[i, j]:.6f}\" for j in range(len(columns))]\n",
    "    print(column, '\\t'.join(row))\n"
   ]
  },
  {
   "cell_type": "code",
   "execution_count": null,
   "id": "42bc8de7",
   "metadata": {},
   "outputs": [],
   "source": [
    "#calculate the correlation and covariance of customer sales data"
   ]
  },
  {
   "cell_type": "code",
   "execution_count": 81,
   "id": "11a69f94",
   "metadata": {},
   "outputs": [
    {
     "name": "stdout",
     "output_type": "stream",
     "text": [
      "Covariance: 4023.16\n",
      "Correlation: 84.28\n"
     ]
    }
   ],
   "source": [
    "# Given data\n",
    "customers = np.array([26, 21, 21, 39, 43, 13, 24, 10, 30, 31, 25])\n",
    "sales = np.array([1359.00, 1092.00, 1086.00, 1870.00, 2036.00, 853.00, 1188.00, 748.00, 1553.00, 1620.00, 461.00])\n",
    "\n",
    "# Calculate covariance and correlation\n",
    "covariance_matrix = np.cov(customers, sales)\n",
    "covariance = round(covariance_matrix[0, 1],2)\n",
    "correlation_matrix = np.corrcoef(customers, sales)\n",
    "correlation = round(correlation_matrix[0, 1],4)*100\n",
    "\n",
    "# Print the results\n",
    "print(\"Covariance:\", covariance)\n",
    "print(\"Correlation:\", correlation)\n"
   ]
  },
  {
   "cell_type": "code",
   "execution_count": 80,
   "id": "2852c5bc",
   "metadata": {},
   "outputs": [
    {
     "name": "stdout",
     "output_type": "stream",
     "text": [
      "           Customers   Sales  Returns\n",
      "Customers     1.0000  0.8428  -0.0394\n",
      "Sales         0.8428  1.0000   0.1260\n",
      "Returns      -0.0394  0.1260   1.0000\n"
     ]
    }
   ],
   "source": [
    "# Given data\n",
    "data = {\n",
    "    'Customers': [26, 21, 21, 39, 43, 13, 24, 10, 30, 31, 25],\n",
    "    'Sales': [1359.00, 1092.00, 1086.00, 1870.00, 2036.00, 853.00, 1188.00, 748.00, 1553.00, 1620.00, 461.00],\n",
    "    'Returns': [2, 6, 7, 6, 0, 5, 7, 2, 6, 10, 2]\n",
    "}\n",
    "\n",
    "# Create a DataFrame\n",
    "df = pd.DataFrame(data)\n",
    "\n",
    "# Calculate the correlation matrix\n",
    "correlation_matrix = df.corr()\n",
    "\n",
    "# Round the correlation values\n",
    "correlation_matrix = correlation_matrix.round(4)\n",
    "\n",
    "# Print the correlation matrix\n",
    "print(correlation_matrix)\n"
   ]
  },
  {
   "cell_type": "code",
   "execution_count": null,
   "id": "e69b60c5",
   "metadata": {},
   "outputs": [],
   "source": [
    "#calculate the expected outcome"
   ]
  },
  {
   "cell_type": "code",
   "execution_count": 19,
   "id": "6453b119",
   "metadata": {},
   "outputs": [
    {
     "name": "stdout",
     "output_type": "stream",
     "text": [
      "Scenario\tProbability\tValue\t\tExpected Value\n",
      "1\t\t25.00%\t\t$50000.00\t\t$12500.00\n",
      "2\t\t60.00%\t\t$-25000.00\t\t$-15000.00\n",
      "3\t\t15.00%\t\t$14000.00\t\t$2100.00\n"
     ]
    }
   ],
   "source": [
    "# Given data\n",
    "data = [\n",
    "    {'Scenario': 1, 'Probability': 0.25, 'Value': 50000},\n",
    "    {'Scenario': 2, 'Probability': 0.60, 'Value': -25000},\n",
    "    {'Scenario': 3, 'Probability': 0.15, 'Value': 14000}\n",
    "]\n",
    "\n",
    "# Calculate expected values\n",
    "for item in data:\n",
    "    item['Expected Value'] = item['Probability'] * item['Value']\n",
    "\n",
    "# Print the table\n",
    "print(\"Scenario\\tProbability\\tValue\\t\\tExpected Value\")\n",
    "for item in data:\n",
    "    print(f\"{item['Scenario']}\\t\\t{item['Probability']:.2%}\\t\\t${item['Value']:.2f}\\t\\t${item['Expected Value']:.2f}\")\n"
   ]
  },
  {
   "cell_type": "code",
   "execution_count": 99,
   "id": "23bd76e8",
   "metadata": {},
   "outputs": [],
   "source": [
    "#permutations w/o duplication\n",
    "#of possibilities where order is important"
   ]
  },
  {
   "cell_type": "code",
   "execution_count": 100,
   "id": "67533587",
   "metadata": {},
   "outputs": [
    {
     "name": "stdout",
     "output_type": "stream",
     "text": [
      "Permutations Without Duplication: 336\n"
     ]
    }
   ],
   "source": [
    "import math\n",
    "\n",
    "# Given values\n",
    "available_speakers = 8\n",
    "open_slots = 3\n",
    "\n",
    "# Calculate permutations without duplication\n",
    "permutations = math.factorial(available_speakers) // math.factorial(available_speakers - open_slots)\n",
    "\n",
    "# Print the result\n",
    "print(\"Permutations Without Duplication:\", permutations)\n"
   ]
  },
  {
   "cell_type": "code",
   "execution_count": 101,
   "id": "05a7f180",
   "metadata": {},
   "outputs": [],
   "source": [
    "#permutations w/duplication"
   ]
  },
  {
   "cell_type": "code",
   "execution_count": 102,
   "id": "c58eec46",
   "metadata": {},
   "outputs": [
    {
     "name": "stdout",
     "output_type": "stream",
     "text": [
      "Permutations With Duplication: 512\n"
     ]
    }
   ],
   "source": [
    "# Given values\n",
    "available_speakers = 8\n",
    "open_slots = 3\n",
    "\n",
    "# Calculate permutations with duplication\n",
    "permutations_with_duplication = available_speakers ** open_slots\n",
    "\n",
    "# Print the result\n",
    "print(\"Permutations With Duplication:\", permutations_with_duplication)\n"
   ]
  },
  {
   "cell_type": "code",
   "execution_count": 103,
   "id": "ba306343",
   "metadata": {},
   "outputs": [],
   "source": [
    "#combinations w/o duplication\n",
    "#application:  unique product mix combinations possible in online shopping basket analysis"
   ]
  },
  {
   "cell_type": "code",
   "execution_count": 104,
   "id": "29089aac",
   "metadata": {},
   "outputs": [
    {
     "name": "stdout",
     "output_type": "stream",
     "text": [
      "Combinations Without Duplication: 10\n"
     ]
    }
   ],
   "source": [
    "import math\n",
    "\n",
    "# Given values\n",
    "available_products = 5\n",
    "items_in_sample_basket = 3\n",
    "\n",
    "# Calculate combinations without duplication\n",
    "combinations_without_duplication = math.comb(available_products, items_in_sample_basket)\n",
    "\n",
    "# Print the result\n",
    "print(\"Combinations Without Duplication:\", combinations_without_duplication)\n"
   ]
  },
  {
   "cell_type": "code",
   "execution_count": 105,
   "id": "a9c55d99",
   "metadata": {},
   "outputs": [],
   "source": [
    "#combinations w/duplication"
   ]
  },
  {
   "cell_type": "code",
   "execution_count": 106,
   "id": "92450a40",
   "metadata": {},
   "outputs": [
    {
     "name": "stdout",
     "output_type": "stream",
     "text": [
      "Combinations With Duplication: 35\n"
     ]
    }
   ],
   "source": [
    "import math\n",
    "\n",
    "# Given values\n",
    "available_products = 5\n",
    "items_in_sample_basket = 3\n",
    "\n",
    "# Calculate combinations with duplication\n",
    "combinations_with_duplication = math.comb(available_products + items_in_sample_basket - 1, items_in_sample_basket)\n",
    "\n",
    "# Print the result\n",
    "print(\"Combinations With Duplication:\", combinations_with_duplication)\n"
   ]
  },
  {
   "cell_type": "code",
   "execution_count": 107,
   "id": "934909d0",
   "metadata": {},
   "outputs": [],
   "source": [
    "#calculate expected outcomes for a business scenario"
   ]
  },
  {
   "cell_type": "code",
   "execution_count": 108,
   "id": "c3dd86b5",
   "metadata": {},
   "outputs": [
    {
     "name": "stdout",
     "output_type": "stream",
     "text": [
      "Scenario\tProbability\tValue\tExpected Value\n",
      "Scenario 1\t18.00%\t\t$30,000.00\t$5,400.00\n",
      "Scenario 2\t5.00%\t\t$60,000.00\t$3,000.00\n",
      "Scenario 3\t33.00%\t\t$-5,000.00\t$-1,650.00\n",
      "Scenario 4\t44.00%\t\t$-10,000.00\t$-4,400.00\n"
     ]
    }
   ],
   "source": [
    "# Given data\n",
    "scenarios = [\"Scenario 1\", \"Scenario 2\", \"Scenario 3\", \"Scenario 4\"]\n",
    "probabilities = [0.18, 0.05, 0.33, 0.44]\n",
    "values = [30000, 60000, -5000, -10000]\n",
    "\n",
    "# Calculate expected values\n",
    "expected_values = [round(probability * value, 2) for probability, value in zip(probabilities, values)]\n",
    "\n",
    "# Print the results\n",
    "print(\"Scenario\\tProbability\\tValue\\tExpected Value\")\n",
    "for scenario, probability, value, expected_value in zip(scenarios, probabilities, values, expected_values):\n",
    "    print(f\"{scenario}\\t{probability:.2%}\\t\\t${value:,.2f}\\t${expected_value:,.2f}\")\n"
   ]
  },
  {
   "cell_type": "code",
   "execution_count": null,
   "id": "8b60c11b",
   "metadata": {},
   "outputs": [],
   "source": [
    "#Khaneman's Cab Bayesian Probability Classic Problem"
   ]
  },
  {
   "cell_type": "code",
   "execution_count": 118,
   "id": "44c27404",
   "metadata": {},
   "outputs": [
    {
     "name": "stdout",
     "output_type": "stream",
     "text": [
      "Classification Matrix:\n",
      "0.3310344827586208\t0.11724137931034477\n",
      "0.08275862068965517\t0.4689655172413792\n",
      "\n",
      "Probability that the identified cab was Blue: 0.41379310344827597\n"
     ]
    }
   ],
   "source": [
    "# Given probabilities\n",
    "P_W_given_B = 0.80\n",
    "P_B = 0.15\n",
    "P_W_given_G = 1 - P_W_given_B\n",
    "P_G = 1 - P_B\n",
    "\n",
    "# Calculate P(W)\n",
    "P_W = (P_W_given_B * P_B) + (P_W_given_G * P_G)\n",
    "\n",
    "# Calculate P(B|W)\n",
    "P_B_given_W = (P_W_given_B * P_B) / P_W\n",
    "\n",
    "# Calculate TP, TN, FP, FN\n",
    "TP = P_B_given_W * P_W_given_B  # True Positive\n",
    "TN = (1 - P_B_given_W) * (1 - P_W_given_G)  # True Negative\n",
    "FP = (1 - P_B_given_W) * P_W_given_G  # False Positive\n",
    "FN = P_B_given_W * (1 - P_W_given_B)  # False Negative\n",
    "\n",
    "# Create and print the classification matrix\n",
    "classification_matrix = [[TP, FP], [FN, TN]]\n",
    "print(\"Classification Matrix:\")\n",
    "for row in classification_matrix:\n",
    "    print(\"\\t\".join(map(str, row)))\n",
    "\n",
    "# Print the result\n",
    "print(\"\\nProbability that the identified cab was Blue:\", P_B_given_W)\n"
   ]
  },
  {
   "cell_type": "code",
   "execution_count": null,
   "id": "15030b1d",
   "metadata": {},
   "outputs": [],
   "source": [
    "#Bayesian Analysis of counterfeits"
   ]
  },
  {
   "cell_type": "code",
   "execution_count": 115,
   "id": "965201f8",
   "metadata": {},
   "outputs": [
    {
     "name": "stdout",
     "output_type": "stream",
     "text": [
      "Probability of Genuine: 0.7\n",
      "Probability of Counterfeit: 0.3\n",
      "Probability Correct: 0.9\n",
      "Probability Incorrect: 0.1\n",
      "Probability Item is Genuine When Reported Genuine: 0.9545\n",
      "Probability Item is Counterfeit When Reported Counterfeit: 0.4091\n"
     ]
    }
   ],
   "source": [
    "# Given data\n",
    "base_rate_genuine = 0.70\n",
    "accuracy = 0.90\n",
    "\n",
    "# Calculate probabilities\n",
    "probability_genuine = round(base_rate_genuine, 4)\n",
    "probability_counterfeit = round(1 - probability_genuine, 4)\n",
    "probability_correct = round(accuracy, 4)\n",
    "probability_incorrect = round(1 - probability_correct, 4)\n",
    "probability_given_genuine = round((probability_genuine * probability_correct) / (probability_genuine * probability_correct + probability_counterfeit * probability_incorrect), 4)\n",
    "probability_given_counterfeit = round((probability_counterfeit * probability_correct) / (probability_genuine * probability_correct + probability_counterfeit * probability_incorrect), 4)\n",
    "\n",
    "# Print the results\n",
    "print(\"Probability of Genuine:\", probability_genuine)\n",
    "print(\"Probability of Counterfeit:\", probability_counterfeit)\n",
    "print(\"Probability Correct:\", probability_correct)\n",
    "print(\"Probability Incorrect:\", probability_incorrect)\n",
    "print(\"Probability Item is Genuine When Reported Genuine:\", probability_given_genuine)\n",
    "print(\"Probability Item is Counterfeit When Reported Counterfeit:\", probability_given_counterfeit)\n"
   ]
  },
  {
   "cell_type": "code",
   "execution_count": 116,
   "id": "c5ea99b7",
   "metadata": {},
   "outputs": [
    {
     "name": "stdout",
     "output_type": "stream",
     "text": [
      "\tReported Genuine\tReported Counterfeit\n",
      "Actual Genuine\t 63.0 %\t\t 7.000000000000001 %\n",
      "Actual Counterfeit\t 27.0 %\t\t 3.0 %\n"
     ]
    }
   ],
   "source": [
    "# Given probabilities from the first set of calculations\n",
    "probability_genuine = probability_genuine\n",
    "probability_counterfeit = probability_counterfeit\n",
    "probability_correct = probability_correct\n",
    "probability_incorrect = probability_incorrect\n",
    "\n",
    "# Calculate probabilities for the table\n",
    "probability_actual_genuine_reported_genuine = round(probability_genuine * probability_correct, 2)\n",
    "probability_actual_genuine_reported_counterfeit = round(probability_genuine * probability_incorrect, 2)\n",
    "probability_actual_counterfeit_reported_genuine = round(probability_counterfeit * (1 - probability_incorrect), 2)\n",
    "probability_actual_counterfeit_reported_counterfeit = round(probability_counterfeit * probability_incorrect, 2)\n",
    "\n",
    "# Print the table\n",
    "print(\"\\tReported Genuine\\tReported Counterfeit\")\n",
    "print(\"Actual Genuine\\t\", probability_actual_genuine_reported_genuine * 100, \"%\\t\\t\", probability_actual_genuine_reported_counterfeit * 100, \"%\")\n",
    "print(\"Actual Counterfeit\\t\", probability_actual_counterfeit_reported_genuine * 100, \"%\\t\\t\", probability_actual_counterfeit_reported_counterfeit * 100, \"%\")\n"
   ]
  },
  {
   "cell_type": "code",
   "execution_count": null,
   "id": "132e6aa8",
   "metadata": {},
   "outputs": [],
   "source": []
  }
 ],
 "metadata": {
  "kernelspec": {
   "display_name": "Python 3",
   "language": "python",
   "name": "python3"
  },
  "language_info": {
   "codemirror_mode": {
    "name": "ipython",
    "version": 3
   },
   "file_extension": ".py",
   "mimetype": "text/x-python",
   "name": "python",
   "nbconvert_exporter": "python",
   "pygments_lexer": "ipython3",
   "version": "3.8.8"
  }
 },
 "nbformat": 4,
 "nbformat_minor": 5
}
